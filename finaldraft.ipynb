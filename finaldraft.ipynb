{
 "cells": [
  {
   "cell_type": "markdown",
   "metadata": {},
   "source": [
    "# Refugees in the United States (and their origins) from 2010 to 2018\n",
    "\n",
    "## Introduction\n",
    "\n",
    "Every year hundreds of thousands of people across the global face displacement forced migration. These refugees must leave their homes and seek shelter and safety in a new country. While the United States was one of the leaders in refugee resettlement, the past decade or so has indicated a change in patterns. Over the years, it's not just the number of refugees, but  also the origin countries that have varied as well. Depending on global affairs, the relative peace/safety of different countries, and their levels of development,.....  [need to flesh this out better and more succinctly]\n",
    "\n",
    "Delving into this data, some of the questions we wanted to discuss include:\n",
    "\n",
    "- How have refugee numbers changed with the US administration’s crackdown on admitting refugees? Presumably they've declined, but by following the model of the past decade, are the refugee numbers headed towards further decline? If, so can we model the trajectory of said decline for the next few years?\n",
    "\n",
    "- What are the top ten refugee sending countries in 2010 and 2018?\n",
    "\n",
    "- Is there any correlation between a country’s HDI and the number of refugees they send to the US in any particular year? Or perhaps a correlation between a country’s Global Peace Index (GPI) or Ranking and the number of refugees?\n",
    "\n",
    "- If not, then is there a correlation between change in refugees sent to the US and a change in HDI or GPI during the years of 2010 and 2018?\n",
    "\n",
    "\n",
    "\n",
    "## Data Description\n",
    "\n",
    "\n",
    "**What are the observations (rows) and the attributes (columns)?**\n",
    " \n",
    "In this dataset, the observations consist of countries (that have sent refugees to the US) and their corresponding attributes: number of refugees to the US annually from 2000 to 2018; the HDI (human development index) of nations in 2000, 2010, and 2018; the change in HDI from 2000-2018; the global peace index of nations in 2010 and 2018; and the change in peace index from 2010-2018.\n",
    "\n",
    "\n",
    "**Why was this dataset created?**\n",
    "\n",
    "This dataset was created in order to analyze patterns in refugee-sending countries to the US. Given the US is seen as a destination country and is one of the world's more wealthy nations that can accomodate displaced persons, we wanted to analyze refugee patterns and their origins to invetigate questions like:\n",
    "\n",
    "- Which countries send the most refugees to the US? How has that pattern fluctuated over the years?\n",
    "- How has the overall number of refugees fluctuated over the years? \n",
    "- Are refugees numbers projected to increase or decrease?\n",
    "- Is there any correlation bewteen HDI of sending countries and the number of refugees sent? What about if we consider changes in HDI and changes in refugee flow? \n",
    "\n",
    "\n",
    "\n",
    "**Who funded the creation of the dataset?**\n",
    "\n",
    "This dataset is an aggregation of numerous data sources including: the Department of Homeland Security Refugee and Asylees Data tables, United Nations Development Programmes' Human Development Reports Data, and the Global Peace/Terrorism Indexes. Each dataset was created by their respective departments either in the government or the United Nations.\n",
    "\n",
    "For each of the datasets used, the governing institutions such as the US DHS and the UNDP funded the collection and  creation of the dataset.\n",
    "\n",
    "\n",
    "**What processes might have influenced what data was observed and recorded and what was not?**\n",
    "\n",
    "\n",
    "\n",
    "In recording refugees numbers, there are numerous instances of data being withheld to limit disclosure. There are also instances where countries political borders have changed during the time period of data collected which may affect how the numbers are reported. Furthermore, this data represents refugees who immigrated legally to the US and doesn't account for possible instances where refugees may have resorted to illegal means to enter and reside within the country.\n",
    "\n",
    "\n",
    "\n",
    "**What preprocessing was done, and how did the data come to be in the form that you are using?**\n",
    "\n",
    "There was thorough pre-processing done seeing as the data came from various sources, we had to ensure that the information could be aggregated as smoothly as possible without errors in merging. \n",
    "\n",
    "The initial UNDP HDI data had extensively documented HDI from 1990 onwards so we dropped the data to focus on the years from 2000 to 2018. We also added column wherein the change in HDI per country during the periods 2000-2010 and 2010-2018 were calculated based on the previous data.\n",
    "\n",
    "The DHS data on refugee arrivals from 2000 to 2018 was stitched together using two data tables from the fiscal years of 2010 and 2018. In combining this data we had to account for the different numbers of countries that sent refugees each year (the unique values of the countries didn't overlap perfectly so we had to manually ensure that numbers corresponded with country labels).\n",
    "\n",
    "Additionally, the data we scraped of the HDI and Peace Index were representative of many more countries than those that sent refugees to the US (the countries we wanted data for), so we had to go through a process of aligning the data and keep only figures of countries that were present in the DHS refugee dataset.\n",
    "\n",
    "\n",
    "\n",
    "**If people are involved, were they aware of the data collection and if so, what purpose did they expect the data to be used for?**\n",
    " \n",
    "For the refugee data, we figure those refugees know in some capacity their immigration will be accounted for and so they're probably aware of the data collection. It would probably be used for governmental purposes, like keeping track of the inflow of immigrants and refugees and how many of them are illegal versus legal.\n",
    "For the HDI and peace index data, individual persons aren't really involved since both of those measurements represent the nation as a whole and not the individuals in the nation.\n",
    "\n",
    "\n",
    "\n",
    "\n",
    "**Where can your raw source data be found, if applicable? Provide a link to the raw data (hosted in a Cornell Google Drive or Cornell Box).**\n",
    "\n",
    "Raw and semi-processed data can be found at this box link:\n",
    "\n",
    "https://cornell.box.com/s/x2qg2h9jl0aq89yg2zcg21qp49yivdf7"
   ]
  },
  {
   "cell_type": "code",
   "execution_count": null,
   "metadata": {},
   "outputs": [],
   "source": []
  }
 ],
 "metadata": {
  "kernelspec": {
   "display_name": "Python 3",
   "language": "python",
   "name": "python3"
  },
  "language_info": {
   "codemirror_mode": {
    "name": "ipython",
    "version": 3
   },
   "file_extension": ".py",
   "mimetype": "text/x-python",
   "name": "python",
   "nbconvert_exporter": "python",
   "pygments_lexer": "ipython3",
<<<<<<< HEAD
   "version": "3.6.5"
=======
   "version": "3.8.1"
>>>>>>> b044e4f21834484042f3b6a5d6ed0fc67899c3d7
  }
 },
 "nbformat": 4,
 "nbformat_minor": 4
}
