{
 "cells": [
  {
   "cell_type": "markdown",
   "metadata": {},
   "source": [
    "# Refugees in the US - Assessing Origins and Indicators of Peace and Development (2010-2018)\n",
    "\n",
    "\n",
    "Every year hundreds of thousands of people across the global face displacement, becoming refugees, seeking shelter in a new place. Over the years, we observe that it is not just the number of refugees, but also the origin countries that have varied as well. Global affairs, the relative peace/safety of different countries, and their levels of development, are all factors that come into play when we are considering forced migration and resettlement. This project aims to analyze the origins of refugees who’ve come to the US and the interaction of development and peace of origin countries with the numbers of refugees sent and changes in refugee outflow patterns.\n",
    "\n",
    "Delving into this data, some of the questions we wanted to discuss include:\n",
    "- How have refugee numbers in the US changed from 2010 to 2018?  Are refugees numbers projected to increase or decrease?\n",
    "- What are the top ten refugee-sending countries in 2010 and 2018?\n",
    "- Is there any correlation between a country’s HDI and the number of refugees they send to the US in 2010 or 2018? Or perhaps a correlation between a country’s Global Peace Index (GPI) or Ranking and the number of refugees?\n",
    "- If not, then is there a correlation between change in refugees sent to the US and a change in HDI or GPI during the years of 2010 and 2018?\n",
    "\n",
    "\n",
    "\n",
    "## Data description\n",
    "\n",
    "\n",
    "**What are the observations (rows) and the attributes (columns)?**\n",
    " \n",
    "In this dataset, the observations consist of countries (that have sent refugees to the US) and their corresponding attributes: number of refugees to the US annually from 2010 to 2018; the HDI (human development index) of nations in  2010, and 2018; the change in HDI from 2000-2018; their most recent HDI ranking (low, medium, high), the global peace index score and ranking of nations in 2010 and 2018; and the factor by which refugee flow from each country has changed from 2010 to 2018.\n",
    "\n",
    "**Who funded the creation of the dataset?**\n",
    "\n",
    "This dataset is an aggregation of numerous data sources including: the Department of Homeland Security (DHS) Refugee and Asylees Data tables, United Nations Development Programmes' (UNDP) Human Development Reports Data, and the Global Peace Index. Each dataset was created by their respective departments either in the government or the United Nations.\n",
    "\n",
    "For each of the datasets used, the governing institutions such as the US DHS and the UNDP funded the collection and  creation of the dataset.\n",
    "\n",
    "**Why was this dataset created?**\n",
    "\n",
    "This dataset was created in order to analyze patterns in refugee-sending countries to the US. Given the US is seen as a destination country and is one of the world's more wealthy nations that can accomodate displaced persons, we wanted to analyze refugee patterns and their origins to invetigate question like those listed above.\n",
    "\n",
    "In terms of the datasets from which the final data was aggregated:\n",
    "\n",
    "- Refugee Data into the US was created as a part of the US' immigration statistics and for the governemnt to keep a record of flows into in the country. It enables the DHS to gather data\n",
    "\n",
    "- The HDI data is a statistical tool used by the United Nations to measure each country's overall achievement socio-economic facets of development (ie. the people's health, level of education, and quality of life). It was created in order for there to be a globally-used and standardized system of measuring the overall development of nations.\n",
    "\n",
    "- The GPI dataset, like the HDI data, is another standardzised measurement used across the world, but it in instead measures each counry's relative peace and stability. It accounts for all kind of peace factors, from wars, political conflict, terrorism impacts, and more in order for us to map out how peace and violence ebbs and flows each country.\n",
    "\n",
    "\n",
    "**What processes might have influenced what data was observed and recorded and what was not?**\n",
    "\n",
    "In recording refugees numbers, there are numerous instances of data being withheld to limit disclosure. There are also instances where countries political borders have changed during the time period of data collected which may affect how the numbers are reported. Furthermore, this data represents refugees who immigrated legally to the US and doesn't account for possible instances where refugees may have resorted to illegal means to enter and reside within the country so there may be underreporting.\n",
    "\n",
    "In terms of GPI instanes of grassroots level or violence in extreemyl rural regions of certain countries may have been left out. There are alos other instances of violence that may not be reported or disclosed by individuals, the involved parties, or maybe even governments themselves.\n",
    "\n",
    "\n",
    "**What preprocessing was done, and how did the data come to be in the form that you are using?**\n",
    "\n",
    "There was thorough pre-processing done seeing as the data came from various sources, we had to ensure that the information could be aggregated as smoothly as possible without errors in merging. \n",
    "\n",
    "The initial UNDP HDI data had extensively documented HDI from 1990 onwards so we dropped the data to focus on the years from 2000 to 2018. We also added column wherein the change in HDI per country during the periods 2000-2010 and 2010-2018 were calculated based on the previous data.\n",
    "\n",
    "The DHS data on refugee arrivals from 2000 to 2018 was stitched together using two data tables from the fiscal years of 2010 and 2018. In combining this data we had to account for the different numbers of countries that sent refugees each year (the unique values of the countries didn't overlap perfectly so we had to manually ensure that numbers corresponded with country labels). Furthermore, we addeda column wherein we calcuated the factor by which the number of refugees sent from each origin country changed from 2010 to 2018. In this calculatoin, there were copmlications in that certain countries did not disclose the number of refugees sent in one or both of the years for the time period we were evaluating. For example, Armernia's data of refugees sent to the US in 2010 was witheld from the information we collected, thus we could not calculate the factor of change during 2010-2018.\n",
    "\n",
    "Additionally, the data we scraped of the HDI and Peace Index were representative of many more countries than those that sent refugees to the US (the countries we wanted data for), so we had to go through a process of aligning the data and keep only figures of countries that were present in the DHS refugee dataset.\n",
    "\n",
    "\n",
    "\n",
    "**If people are involved, were they aware of the data collection and if so, what purpose did they expect the data to be used for?**\n",
    " \n",
    "For the refugee data, we figure those refugees know in some capacity their immigration will be accounted for and so they're probably aware of the data collection. Knowing that refugee placements are a legal, well documented process, refugees probably expected that their data would probably be used for governmental purposes. This could include keeping track of the inflow of refugees/asylees, analyzing how many of them are illegal versus legal, all so as to inform immigration statistics and public policy.\n",
    "\n",
    "As for the HDI and peace index data, individual persons aren't really involved since both of those measurements represent the nation as a whole and not particular individuals in the nation, so we presume that people's awareness about data collection is not significant in these measurements.\n",
    "\n",
    "\n",
    "**Where can your raw source data be found, if applicable? Provide a link to the raw data (hosted in a Cornell Google Drive or Cornell Box).**\n",
    "\n",
    "Raw and semi-processed data can be found at this box link:\n",
    "\n",
    "https://cornell.box.com/s/x2qg2h9jl0aq89yg2zcg21qp49yivdf7"
   ]
  },
  {
   "cell_type": "markdown",
   "metadata": {},
   "source": [
    "# Data Analysis"
   ]
  },
  {
   "cell_type": "code",
   "execution_count": 601,
   "metadata": {},
   "outputs": [],
   "source": [
    "import pandas as pd\n",
    "import numpy as np\n",
    "import matplotlib.pyplot as plt\n",
    "\n",
    "from sklearn.linear_model import LinearRegression"
   ]
  },
  {
   "cell_type": "code",
   "execution_count": 2,
   "metadata": {},
   "outputs": [
    {
     "data": {
      "text/html": [
       "<div>\n",
       "<style scoped>\n",
       "    .dataframe tbody tr th:only-of-type {\n",
       "        vertical-align: middle;\n",
       "    }\n",
       "\n",
       "    .dataframe tbody tr th {\n",
       "        vertical-align: top;\n",
       "    }\n",
       "\n",
       "    .dataframe thead th {\n",
       "        text-align: right;\n",
       "    }\n",
       "</style>\n",
       "<table border=\"1\" class=\"dataframe\">\n",
       "  <thead>\n",
       "    <tr style=\"text-align: right;\">\n",
       "      <th></th>\n",
       "      <th>Country</th>\n",
       "      <th>2010</th>\n",
       "      <th>2011</th>\n",
       "      <th>2012</th>\n",
       "      <th>2013</th>\n",
       "      <th>2014</th>\n",
       "      <th>2015</th>\n",
       "      <th>2016</th>\n",
       "      <th>2017</th>\n",
       "      <th>2018</th>\n",
       "      <th>hdi_2000</th>\n",
       "      <th>hdi_2010</th>\n",
       "      <th>hdi_2018</th>\n",
       "      <th>hdichange2010-2018</th>\n",
       "      <th>hdi_ranking</th>\n",
       "      <th>Ranking - 2010</th>\n",
       "      <th>Score - 2010</th>\n",
       "      <th>Ranking - 2018</th>\n",
       "      <th>Score - 2018</th>\n",
       "      <th>refugee_change</th>\n",
       "    </tr>\n",
       "  </thead>\n",
       "  <tbody>\n",
       "    <tr>\n",
       "      <th>0</th>\n",
       "      <td>Afghanistan</td>\n",
       "      <td>515</td>\n",
       "      <td>428</td>\n",
       "      <td>481</td>\n",
       "      <td>661</td>\n",
       "      <td>753</td>\n",
       "      <td>910</td>\n",
       "      <td>2,737</td>\n",
       "      <td>1,311</td>\n",
       "      <td>805</td>\n",
       "      <td>0.345</td>\n",
       "      <td>0.464</td>\n",
       "      <td>0.496</td>\n",
       "      <td>0.83</td>\n",
       "      <td>low</td>\n",
       "      <td>157</td>\n",
       "      <td>3.163</td>\n",
       "      <td>162.0</td>\n",
       "      <td>3.576</td>\n",
       "      <td>0.5631067961</td>\n",
       "    </tr>\n",
       "    <tr>\n",
       "      <th>1</th>\n",
       "      <td>Algeria</td>\n",
       "      <td>-</td>\n",
       "      <td>-</td>\n",
       "      <td>-</td>\n",
       "      <td>-</td>\n",
       "      <td>-</td>\n",
       "      <td>-</td>\n",
       "      <td>-</td>\n",
       "      <td>-</td>\n",
       "      <td>-</td>\n",
       "      <td>0.646</td>\n",
       "      <td>0.73</td>\n",
       "      <td>0.759</td>\n",
       "      <td>0.49</td>\n",
       "      <td>high</td>\n",
       "      <td>130</td>\n",
       "      <td>2.37</td>\n",
       "      <td>109.0</td>\n",
       "      <td>2.188</td>\n",
       "      <td>-</td>\n",
       "    </tr>\n",
       "    <tr>\n",
       "      <th>2</th>\n",
       "      <td>Angola</td>\n",
       "      <td>-</td>\n",
       "      <td>-</td>\n",
       "      <td>-</td>\n",
       "      <td>-</td>\n",
       "      <td>-</td>\n",
       "      <td>-</td>\n",
       "      <td>-</td>\n",
       "      <td>-</td>\n",
       "      <td>-</td>\n",
       "      <td>0.394</td>\n",
       "      <td>0.51</td>\n",
       "      <td>0.574</td>\n",
       "      <td>1.5</td>\n",
       "      <td>medium</td>\n",
       "      <td>80</td>\n",
       "      <td>2.02</td>\n",
       "      <td>80.0</td>\n",
       "      <td>2.031</td>\n",
       "      <td>-</td>\n",
       "    </tr>\n",
       "    <tr>\n",
       "      <th>3</th>\n",
       "      <td>Armenia</td>\n",
       "      <td>D</td>\n",
       "      <td>15</td>\n",
       "      <td>8</td>\n",
       "      <td>3</td>\n",
       "      <td>10</td>\n",
       "      <td>49</td>\n",
       "      <td>55</td>\n",
       "      <td>57</td>\n",
       "      <td>58</td>\n",
       "      <td>0.649</td>\n",
       "      <td>0.729</td>\n",
       "      <td>0.76</td>\n",
       "      <td>0.52</td>\n",
       "      <td>high</td>\n",
       "      <td>129</td>\n",
       "      <td>2.368</td>\n",
       "      <td>121.0</td>\n",
       "      <td>2.302</td>\n",
       "      <td>-</td>\n",
       "    </tr>\n",
       "    <tr>\n",
       "      <th>4</th>\n",
       "      <td>Azerbaijan</td>\n",
       "      <td>18</td>\n",
       "      <td>16</td>\n",
       "      <td>10</td>\n",
       "      <td>3</td>\n",
       "      <td>15</td>\n",
       "      <td>18</td>\n",
       "      <td>32</td>\n",
       "      <td>20</td>\n",
       "      <td>D</td>\n",
       "      <td>0.641</td>\n",
       "      <td>0.732</td>\n",
       "      <td>0.754</td>\n",
       "      <td>0.36</td>\n",
       "      <td>high</td>\n",
       "      <td>131</td>\n",
       "      <td>2.382</td>\n",
       "      <td>133.0</td>\n",
       "      <td>2.447</td>\n",
       "      <td>-</td>\n",
       "    </tr>\n",
       "  </tbody>\n",
       "</table>\n",
       "</div>"
      ],
      "text/plain": [
       "       Country 2010 2011 2012 2013 2014 2015   2016   2017 2018 hdi_2000  \\\n",
       "0  Afghanistan  515  428  481  661  753  910  2,737  1,311  805    0.345   \n",
       "1      Algeria    -    -    -    -    -    -      -      -    -    0.646   \n",
       "2       Angola    -    -    -    -    -    -      -      -    -    0.394   \n",
       "3      Armenia    D   15    8    3   10   49     55     57   58    0.649   \n",
       "4   Azerbaijan   18   16   10    3   15   18     32     20    D    0.641   \n",
       "\n",
       "  hdi_2010 hdi_2018 hdichange2010-2018 hdi_ranking Ranking - 2010  \\\n",
       "0    0.464    0.496               0.83         low            157   \n",
       "1     0.73    0.759               0.49        high            130   \n",
       "2     0.51    0.574                1.5      medium             80   \n",
       "3    0.729     0.76               0.52        high            129   \n",
       "4    0.732    0.754               0.36        high            131   \n",
       "\n",
       "  Score - 2010  Ranking - 2018  Score - 2018 refugee_change  \n",
       "0        3.163           162.0         3.576   0.5631067961  \n",
       "1         2.37           109.0         2.188              -  \n",
       "2         2.02            80.0         2.031              -  \n",
       "3        2.368           121.0         2.302              -  \n",
       "4        2.382           133.0         2.447              -  "
      ]
     },
     "execution_count": 2,
     "metadata": {},
     "output_type": "execute_result"
    }
   ],
   "source": [
    "data = pd.read_csv(\"final_data.csv\")\n",
    "to_drop = data.columns.drop(\"Unnamed: 0\")\n",
    "data = data[to_drop]\n",
    "data.head()"
   ]
  },
  {
   "cell_type": "code",
   "execution_count": 3,
   "metadata": {},
   "outputs": [],
   "source": [
    "# Replace entries of \"-\", \"D\", or \"X\" with NaN values\n",
    "data = data.replace([\"-\", \"D\", \"X\", \"..\"], np.nan)"
   ]
  },
  {
   "cell_type": "code",
   "execution_count": 4,
   "metadata": {},
   "outputs": [],
   "source": [
    "# For purposes of adding values, replace NaN values with 0\n",
    "int_data = data.replace(np.nan, \"0\")"
   ]
  },
  {
   "cell_type": "code",
   "execution_count": 5,
   "metadata": {},
   "outputs": [],
   "source": [
    "first = data.columns[1:14]\n",
    "second = data.columns[15:]\n",
    "num_columns = first.append(second)"
   ]
  },
  {
   "cell_type": "code",
   "execution_count": null,
   "metadata": {},
   "outputs": [],
   "source": [
    "# Convert all strings in dataset to floats\n",
    "\n",
    "for col in num_columns:\n",
    "    int_data[col] = [x.replace(\",\", \"\") for x in int_data[col]]\n",
    "    int_data[col] = [float(x) for x in int_data[col]]"
   ]
  },
  {
   "cell_type": "markdown",
   "metadata": {},
   "source": [
    "## Comparing Total Number of Refugees 2010-2018"
   ]
  },
  {
   "cell_type": "code",
   "execution_count": 540,
   "metadata": {},
   "outputs": [],
   "source": [
    "# Calculate the total number of refugees for each year\n",
    "\n",
    "total_refugees = []\n",
    "for pos in range(1, 10):\n",
    "    col = int_data[int_data.columns[pos]].tolist()\n",
    "    total_refugees.append(sum(col))"
   ]
  },
  {
   "cell_type": "code",
   "execution_count": 541,
   "metadata": {},
   "outputs": [
    {
     "data": {
      "image/png": "[encoded data removed]",
      "text/plain": [
       "<Figure size 432x288 with 1 Axes>"
      ]
     },
     "metadata": {},
     "output_type": "display_data"
    }
   ],
   "source": [
    "# Plot the number of refugees versus years\n",
    "years = data.columns[1 : 10].tolist()\n",
    "plt.plot(years, total_refugees)\n",
    "plt.xlabel(\"Year\")\n",
    "plt.ylabel(\"Number of Refugees entering the US Globally\")\n",
    "plt.title(\"Number of Global Refugees from 2010 - 2018\")\n",
    "plt.show()"
   ]
  },
  {
   "cell_type": "markdown",
   "metadata": {},
   "source": [
    "We see a spike in 2016 and then a huge derease of around 60,000 refugees in 2018. What might have caused the spike? Upon further investigation, we found that the spike aligned with the increased entry of primarily Syrian refugees during the year of 2016 as per the Obama' administration's attempt to welcome and resettle 10,000 refugees from Syria.\n",
    "\n",
    "Further research found that, unsurprisingly, the Trump administration cut the refugee cap in 2018 to 30,000, resulting in the decrease in the inflow of refugees into the U.S. The trajectory of this decrease is expected to plummet further with the refugee cap now at 18,00 for the 2020 fiscal year (*Pew Research Center*)."
   ]
  },
  {
   "cell_type": "markdown",
   "metadata": {},
   "source": [
    "## Top 10 Refugee-Sending Countries in 2010 and 2018"
   ]
  },
  {
   "cell_type": "code",
   "execution_count": 542,
   "metadata": {},
   "outputs": [],
   "source": [
    "# Determining the countries that sent the most number of refugees to ths US in 2010\n",
    "\n",
    "int_data_10 = int_data[[\"Country\", \"2010\"]].copy()\n",
    "top_10_2010 = int_data_10.nlargest(10, \"2010\")"
   ]
  },
  {
   "cell_type": "code",
   "execution_count": 543,
   "metadata": {
    "scrolled": true
   },
   "outputs": [
    {
     "data": {
      "text/html": [
       "<div>\n",
       "<style scoped>\n",
       "    .dataframe tbody tr th:only-of-type {\n",
       "        vertical-align: middle;\n",
       "    }\n",
       "\n",
       "    .dataframe tbody tr th {\n",
       "        vertical-align: top;\n",
       "    }\n",
       "\n",
       "    .dataframe thead th {\n",
       "        text-align: right;\n",
       "    }\n",
       "</style>\n",
       "<table border=\"1\" class=\"dataframe\">\n",
       "  <thead>\n",
       "    <tr style=\"text-align: right;\">\n",
       "      <th></th>\n",
       "      <th>Country</th>\n",
       "      <th>2010</th>\n",
       "    </tr>\n",
       "  </thead>\n",
       "  <tbody>\n",
       "    <tr>\n",
       "      <th>35</th>\n",
       "      <td>Iraq</td>\n",
       "      <td>18016.0</td>\n",
       "    </tr>\n",
       "    <tr>\n",
       "      <th>49</th>\n",
       "      <td>Myanmar</td>\n",
       "      <td>16693.0</td>\n",
       "    </tr>\n",
       "    <tr>\n",
       "      <th>6</th>\n",
       "      <td>Bhutan</td>\n",
       "      <td>12363.0</td>\n",
       "    </tr>\n",
       "    <tr>\n",
       "      <th>57</th>\n",
       "      <td>Somalia</td>\n",
       "      <td>4884.0</td>\n",
       "    </tr>\n",
       "    <tr>\n",
       "      <th>19</th>\n",
       "      <td>Cuba</td>\n",
       "      <td>4818.0</td>\n",
       "    </tr>\n",
       "    <tr>\n",
       "      <th>34</th>\n",
       "      <td>Iran</td>\n",
       "      <td>3543.0</td>\n",
       "    </tr>\n",
       "    <tr>\n",
       "      <th>15</th>\n",
       "      <td>Congo (Democratic Republic)</td>\n",
       "      <td>3174.0</td>\n",
       "    </tr>\n",
       "    <tr>\n",
       "      <th>24</th>\n",
       "      <td>Eritrea</td>\n",
       "      <td>2570.0</td>\n",
       "    </tr>\n",
       "    <tr>\n",
       "      <th>68</th>\n",
       "      <td>Vietnam</td>\n",
       "      <td>873.0</td>\n",
       "    </tr>\n",
       "    <tr>\n",
       "      <th>26</th>\n",
       "      <td>Ethiopia</td>\n",
       "      <td>668.0</td>\n",
       "    </tr>\n",
       "  </tbody>\n",
       "</table>\n",
       "</div>"
      ],
      "text/plain": [
       "                        Country     2010\n",
       "35                         Iraq  18016.0\n",
       "49                      Myanmar  16693.0\n",
       "6                        Bhutan  12363.0\n",
       "57                      Somalia   4884.0\n",
       "19                         Cuba   4818.0\n",
       "34                         Iran   3543.0\n",
       "15  Congo (Democratic Republic)   3174.0\n",
       "24                      Eritrea   2570.0\n",
       "68                      Vietnam    873.0\n",
       "26                     Ethiopia    668.0"
      ]
     },
     "execution_count": 543,
     "metadata": {},
     "output_type": "execute_result"
    }
   ],
   "source": [
    "top_10_2010"
   ]
  },
  {
   "cell_type": "code",
   "execution_count": 544,
   "metadata": {},
   "outputs": [],
   "source": [
    "top_10_countries = top_10_2010[\"Country\"].tolist()\n",
    "for pos in range(len(top_10_countries)):\n",
    "    if(top_10_countries[pos] == \"Congo (Democratic Republic)\"):\n",
    "        top_10_countries[pos] = \"Congo (DR)\""
   ]
  },
  {
   "cell_type": "code",
   "execution_count": 545,
   "metadata": {},
   "outputs": [
    {
     "data": {
      "image/png": "[encoded data removed]",
      "text/plain": [
       "<Figure size 432x288 with 1 Axes>"
      ]
     },
     "metadata": {},
     "output_type": "display_data"
    }
   ],
   "source": [
    "plt.bar([1, 2, 3, 4, 5, 6, 7, 8, 9, 10], top_10_2010[\"2010\"], tick_label = top_10_countries)\n",
    "plt.xticks(rotation=45)\n",
    "plt.xlabel(\"Countries\")\n",
    "plt.ylabel(\"Number of Refugees\")\n",
    "plt.title(\"Top Ten Countries with Highest Refugee Outflow in 2010\")\n",
    "plt.show()"
   ]
  },
  {
   "cell_type": "code",
   "execution_count": 546,
   "metadata": {},
   "outputs": [],
   "source": [
    "# Determining the countries that sent the most number of refugees to ths US in 2018\n",
    "\n",
    "int_data_18 = int_data[[\"Country\", \"2018\"]].copy()\n",
    "top_10_2018 = int_data_18.nlargest(10, \"2018\")"
   ]
  },
  {
   "cell_type": "code",
   "execution_count": 547,
   "metadata": {
    "scrolled": true
   },
   "outputs": [
    {
     "data": {
      "text/html": [
       "<div>\n",
       "<style scoped>\n",
       "    .dataframe tbody tr th:only-of-type {\n",
       "        vertical-align: middle;\n",
       "    }\n",
       "\n",
       "    .dataframe tbody tr th {\n",
       "        vertical-align: top;\n",
       "    }\n",
       "\n",
       "    .dataframe thead th {\n",
       "        text-align: right;\n",
       "    }\n",
       "</style>\n",
       "<table border=\"1\" class=\"dataframe\">\n",
       "  <thead>\n",
       "    <tr style=\"text-align: right;\">\n",
       "      <th></th>\n",
       "      <th>Country</th>\n",
       "      <th>2018</th>\n",
       "    </tr>\n",
       "  </thead>\n",
       "  <tbody>\n",
       "    <tr>\n",
       "      <th>15</th>\n",
       "      <td>Congo (Democratic Republic)</td>\n",
       "      <td>7878.0</td>\n",
       "    </tr>\n",
       "    <tr>\n",
       "      <th>49</th>\n",
       "      <td>Myanmar</td>\n",
       "      <td>3555.0</td>\n",
       "    </tr>\n",
       "    <tr>\n",
       "      <th>66</th>\n",
       "      <td>Ukraine</td>\n",
       "      <td>2635.0</td>\n",
       "    </tr>\n",
       "    <tr>\n",
       "      <th>6</th>\n",
       "      <td>Bhutan</td>\n",
       "      <td>2228.0</td>\n",
       "    </tr>\n",
       "    <tr>\n",
       "      <th>24</th>\n",
       "      <td>Eritrea</td>\n",
       "      <td>1269.0</td>\n",
       "    </tr>\n",
       "    <tr>\n",
       "      <th>0</th>\n",
       "      <td>Afghanistan</td>\n",
       "      <td>805.0</td>\n",
       "    </tr>\n",
       "    <tr>\n",
       "      <th>22</th>\n",
       "      <td>El Salvador</td>\n",
       "      <td>725.0</td>\n",
       "    </tr>\n",
       "    <tr>\n",
       "      <th>52</th>\n",
       "      <td>Pakistan</td>\n",
       "      <td>441.0</td>\n",
       "    </tr>\n",
       "    <tr>\n",
       "      <th>53</th>\n",
       "      <td>Russia</td>\n",
       "      <td>437.0</td>\n",
       "    </tr>\n",
       "    <tr>\n",
       "      <th>26</th>\n",
       "      <td>Ethiopia</td>\n",
       "      <td>376.0</td>\n",
       "    </tr>\n",
       "  </tbody>\n",
       "</table>\n",
       "</div>"
      ],
      "text/plain": [
       "                        Country    2018\n",
       "15  Congo (Democratic Republic)  7878.0\n",
       "49                      Myanmar  3555.0\n",
       "66                      Ukraine  2635.0\n",
       "6                        Bhutan  2228.0\n",
       "24                      Eritrea  1269.0\n",
       "0                   Afghanistan   805.0\n",
       "22                  El Salvador   725.0\n",
       "52                     Pakistan   441.0\n",
       "53                       Russia   437.0\n",
       "26                     Ethiopia   376.0"
      ]
     },
     "execution_count": 547,
     "metadata": {},
     "output_type": "execute_result"
    }
   ],
   "source": [
    "top_10_2018"
   ]
  },
  {
   "cell_type": "code",
   "execution_count": 548,
   "metadata": {},
   "outputs": [],
   "source": [
    "top_10_countries = top_10_2018[\"Country\"].tolist()\n",
    "for pos in range(len(top_10_countries)):\n",
    "    if(top_10_countries[pos] == \"Congo (Democratic Republic)\"):\n",
    "        top_10_countries[pos] = \"Congo (DR)\""
   ]
  },
  {
   "cell_type": "code",
   "execution_count": 596,
   "metadata": {},
   "outputs": [
    {
     "data": {
      "image/png": "[encoded data removed]",
      "text/plain": [
       "<Figure size 432x288 with 1 Axes>"
      ]
     },
     "metadata": {},
     "output_type": "display_data"
    }
   ],
   "source": [
    "plt.bar([1, 2, 3, 4, 5, 6, 7, 8, 9, 10], top_10_2018[\"2018\"], tick_label = top_10_countries)\n",
    "plt.xticks(rotation=45)\n",
    "plt.xlabel(\"Countries\")\n",
    "plt.ylabel(\"Number of Refugees\")\n",
    "plt.title(\"Top Ten Countries with Highest Refugee Outflow in 2018\")\n",
    "plt.show()"
   ]
  },
  {
   "cell_type": "markdown",
   "metadata": {},
   "source": [
    "## Country-wise Comparison of the Global Peace Index ranking to the Refugee Output in 2010"
   ]
  },
  {
   "cell_type": "markdown",
   "metadata": {},
   "source": [
    "Here, we investigate if there exists any correlation between the refugee outflows from a given country to the US and that said country's Global Peace Index Ranking. We hypothesize that a higher ranking (i.e one that indicates a lower pece index score) could indicate increased refugee outflows."
   ]
  },
  {
   "cell_type": "code",
   "execution_count": 550,
   "metadata": {},
   "outputs": [],
   "source": [
    "countries = data[\"Country\"]"
   ]
  },
  {
   "cell_type": "code",
   "execution_count": 551,
   "metadata": {},
   "outputs": [],
   "source": [
    "data_2010 = int_data[[\"Country\", \"2010\", \"Ranking - 2010\"]].copy()\n",
    "data_2010 = data_2010[(data_2010 != 0).all(1)]"
   ]
  },
  {
   "cell_type": "code",
   "execution_count": 552,
   "metadata": {},
   "outputs": [],
   "source": [
    "model_2010 = LinearRegression().fit(data_2010[[\"2010\"]], data_2010[\"Ranking - 2010\"])"
   ]
  },
  {
   "cell_type": "code",
   "execution_count": 553,
   "metadata": {},
   "outputs": [
    {
     "name": "stdout",
     "output_type": "stream",
     "text": [
      "Slope = 0.0012943796174515493\n",
      "Y-intercept = 111.39173694091397\n",
      "r^2 = 0.01769711736489543\n"
     ]
    }
   ],
   "source": [
    "slope_2010 = model_2010.coef_[0]\n",
    "intercept_2010 = model_2010.intercept_\n",
    "y = slope_2010 * data_2010[\"2010\"] + intercept_2010\n",
    "print(\"Slope =\", slope_2010)\n",
    "print(\"Y-intercept =\", intercept_2010)\n",
    "print(\"r^2 =\", model_2010.score(data_2010[[\"2010\"]], data_2010[\"Ranking - 2010\"]))"
   ]
  },
  {
   "cell_type": "code",
   "execution_count": 554,
   "metadata": {},
   "outputs": [
    {
     "data": {
      "image/png": "[encoded data removed]",
      "text/plain": [
       "<Figure size 432x288 with 1 Axes>"
      ]
     },
     "metadata": {},
     "output_type": "display_data"
    }
   ],
   "source": [
    "plt.plot(data_2010[\"2010\"], data_2010[\"Ranking - 2010\"], 'o')\n",
    "plt.xlabel(\"Number of Refugees\")\n",
    "plt.ylabel(\"Global Peace Index Ranking\")\n",
    "plt.title(\"Global Peace Index Ranking of a Nation vs. Refugee Outflow in 2010\")\n",
    "plt.plot(data_2010[\"2010\"], y)\n",
    "plt.show()"
   ]
  },
  {
   "cell_type": "markdown",
   "metadata": {},
   "source": [
    "The data is mostly focused on the left side of the plot, and we can see the regression model is a fairly poor fit for the data given that, as calculated above, the $r^2$ value is only 0.018, which is much closer to 0 than it is 1."
   ]
  },
  {
   "cell_type": "markdown",
   "metadata": {},
   "source": [
    "Because there are so many outliers affecting the plot and regression, we decided to also analyze the most central data, dropping the outliers so we can get a clearer picture if any kind of relationship exists in the absence of outliers."
   ]
  },
  {
   "cell_type": "code",
   "execution_count": 555,
   "metadata": {},
   "outputs": [
    {
     "data": {
      "text/html": [
       "<div>\n",
       "<style scoped>\n",
       "    .dataframe tbody tr th:only-of-type {\n",
       "        vertical-align: middle;\n",
       "    }\n",
       "\n",
       "    .dataframe tbody tr th {\n",
       "        vertical-align: top;\n",
       "    }\n",
       "\n",
       "    .dataframe thead th {\n",
       "        text-align: right;\n",
       "    }\n",
       "</style>\n",
       "<table border=\"1\" class=\"dataframe\">\n",
       "  <thead>\n",
       "    <tr style=\"text-align: right;\">\n",
       "      <th></th>\n",
       "      <th>Country</th>\n",
       "      <th>2010</th>\n",
       "      <th>Ranking - 2010</th>\n",
       "    </tr>\n",
       "  </thead>\n",
       "  <tbody>\n",
       "    <tr>\n",
       "      <th>35</th>\n",
       "      <td>Iraq</td>\n",
       "      <td>18016.0</td>\n",
       "      <td>161.0</td>\n",
       "    </tr>\n",
       "    <tr>\n",
       "      <th>49</th>\n",
       "      <td>Myanmar</td>\n",
       "      <td>16693.0</td>\n",
       "      <td>133.0</td>\n",
       "    </tr>\n",
       "    <tr>\n",
       "      <th>6</th>\n",
       "      <td>Bhutan</td>\n",
       "      <td>12363.0</td>\n",
       "      <td>66.0</td>\n",
       "    </tr>\n",
       "    <tr>\n",
       "      <th>57</th>\n",
       "      <td>Somalia</td>\n",
       "      <td>4884.0</td>\n",
       "      <td>160.0</td>\n",
       "    </tr>\n",
       "    <tr>\n",
       "      <th>19</th>\n",
       "      <td>Cuba</td>\n",
       "      <td>4818.0</td>\n",
       "      <td>85.0</td>\n",
       "    </tr>\n",
       "    <tr>\n",
       "      <th>34</th>\n",
       "      <td>Iran</td>\n",
       "      <td>3543.0</td>\n",
       "      <td>127.0</td>\n",
       "    </tr>\n",
       "    <tr>\n",
       "      <th>15</th>\n",
       "      <td>Congo (Democratic Republic)</td>\n",
       "      <td>3174.0</td>\n",
       "      <td>153.0</td>\n",
       "    </tr>\n",
       "    <tr>\n",
       "      <th>24</th>\n",
       "      <td>Eritrea</td>\n",
       "      <td>2570.0</td>\n",
       "      <td>132.0</td>\n",
       "    </tr>\n",
       "    <tr>\n",
       "      <th>68</th>\n",
       "      <td>Vietnam</td>\n",
       "      <td>873.0</td>\n",
       "      <td>57.0</td>\n",
       "    </tr>\n",
       "    <tr>\n",
       "      <th>26</th>\n",
       "      <td>Ethiopia</td>\n",
       "      <td>668.0</td>\n",
       "      <td>142.0</td>\n",
       "    </tr>\n",
       "  </tbody>\n",
       "</table>\n",
       "</div>"
      ],
      "text/plain": [
       "                        Country     2010  Ranking - 2010\n",
       "35                         Iraq  18016.0           161.0\n",
       "49                      Myanmar  16693.0           133.0\n",
       "6                        Bhutan  12363.0            66.0\n",
       "57                      Somalia   4884.0           160.0\n",
       "19                         Cuba   4818.0            85.0\n",
       "34                         Iran   3543.0           127.0\n",
       "15  Congo (Democratic Republic)   3174.0           153.0\n",
       "24                      Eritrea   2570.0           132.0\n",
       "68                      Vietnam    873.0            57.0\n",
       "26                     Ethiopia    668.0           142.0"
      ]
     },
     "execution_count": 555,
     "metadata": {},
     "output_type": "execute_result"
    }
   ],
   "source": [
    "# Determine the 10 nations with the largest refugee outflow\n",
    "data_2010.nlargest(10, \"2010\")"
   ]
  },
  {
   "cell_type": "code",
   "execution_count": 556,
   "metadata": {},
   "outputs": [],
   "source": [
    "# Drop the 10 nations determined above\n",
    "no_outliers_2010 = data_2010.drop([35, 49, 6, 57, 19, 34, 15, 24, 68])"
   ]
  },
  {
   "cell_type": "code",
   "execution_count": 557,
   "metadata": {},
   "outputs": [
    {
     "name": "stdout",
     "output_type": "stream",
     "text": [
      "Slope = 0.06313202278065487\n",
      "Y-intercept = 103.74641129667748\n",
      "r^2 = 0.09281535697278409\n"
     ]
    }
   ],
   "source": [
    "no_outliers_2010_model = LinearRegression().fit(no_outliers_2010[[\"2010\"]], no_outliers_2010[\"Ranking - 2010\"])\n",
    "no_outliers_2010_slope = no_outliers_2010_model.coef_[0]\n",
    "no_outliers_2010_intercept = no_outliers_2010_model.intercept_\n",
    "y = no_outliers_2010_slope * no_outliers_2010[\"2010\"] + no_outliers_2010_intercept\n",
    "print(\"Slope =\", no_outliers_2010_slope)\n",
    "print(\"Y-intercept =\", no_outliers_2010_intercept)\n",
    "print(\"r^2 =\", no_outliers_2010_model.score(no_outliers_2010[[\"2010\"]], no_outliers_2010[\"Ranking - 2010\"]))"
   ]
  },
  {
   "cell_type": "code",
   "execution_count": 558,
   "metadata": {
    "scrolled": true
   },
   "outputs": [
    {
     "data": {
      "image/png": "[encoded data removed]",
      "text/plain": [
       "<Figure size 432x288 with 1 Axes>"
      ]
     },
     "metadata": {},
     "output_type": "display_data"
    }
   ],
   "source": [
    "plt.plot(no_outliers_2010[\"2010\"], no_outliers_2010[\"Ranking - 2010\"], \"o\")\n",
    "plt.plot(no_outliers_2010[\"2010\"], y)\n",
    "plt.xlabel(\"Number of Refugees\")\n",
    "plt.ylabel(\"Global Peace Index Ranking\")\n",
    "plt.title(\"Global Peace Index Ranking of a Nation vs. Refugee Outflow in 2010 (No Outliers)\")\n",
    "plt.show()"
   ]
  },
  {
   "cell_type": "markdown",
   "metadata": {},
   "source": [
    "This plot looks a little more spread out, but we can still see that most countries are sending less than 200 refugees to the U.S. in 2010.  The $r^2$ value here is 0.093 which is definitely better than the previous plot, but it's still a very low value that shows the model is a poor fit for the data."
   ]
  },
  {
   "cell_type": "markdown",
   "metadata": {},
   "source": [
    "Overall, we observe that there's not really a correlation between refugee outflow from a country and that country's global peace index ranking. We see this where countries are sending under 100 refugees but have anywhere from a 20 to a 160 ranking."
   ]
  },
  {
   "cell_type": "markdown",
   "metadata": {},
   "source": [
    "## Country-wise Comparison of the Global Peace Index ranking to the Refugee Output in 2018"
   ]
  },
  {
   "cell_type": "code",
   "execution_count": 559,
   "metadata": {},
   "outputs": [],
   "source": [
    "data_2018 = int_data[[\"Country\", \"2018\", \"Ranking - 2018\"]].copy()\n",
    "data_2018 = data_2018[(data_2018 != 0).all(1)]"
   ]
  },
  {
   "cell_type": "code",
   "execution_count": 560,
   "metadata": {},
   "outputs": [],
   "source": [
    "model_2018 = LinearRegression().fit(data_2018[[\"2018\"]], data_2018[\"Ranking - 2018\"])"
   ]
  },
  {
   "cell_type": "code",
   "execution_count": 561,
   "metadata": {},
   "outputs": [
    {
     "name": "stdout",
     "output_type": "stream",
     "text": [
      "Slope = 0.006725463493687688\n",
      "Y-intercept = 103.20376445499286\n",
      "r^2 = 0.035492493186146334\n"
     ]
    }
   ],
   "source": [
    "slope_2018 = model_2018.coef_[0]\n",
    "intercept_2018 = model_2018.intercept_\n",
    "y = slope_2018 * data_2018[\"2018\"] + intercept_2018\n",
    "print(\"Slope =\", slope_2018)\n",
    "print(\"Y-intercept =\", intercept_2018)\n",
    "print(\"r^2 =\", model_2018.score(data_2018[[\"2018\"]], data_2018[\"Ranking - 2018\"]))"
   ]
  },
  {
   "cell_type": "code",
   "execution_count": 562,
   "metadata": {
    "scrolled": true
   },
   "outputs": [
    {
     "data": {
      "image/png": "[encoded data removed]",
      "text/plain": [
       "<Figure size 432x288 with 1 Axes>"
      ]
     },
     "metadata": {},
     "output_type": "display_data"
    }
   ],
   "source": [
    "plt.plot(data_2018[\"2018\"], data_2018[\"Ranking - 2018\"], 'o')\n",
    "plt.xlabel(\"Number of Refugees\")\n",
    "plt.ylabel(\"Global Peace Index Ranking\")\n",
    "plt.title(\"Global Peace Index Ranking of a Nation vs. Refugee Outflow in 2018\")\n",
    "plt.plot(data_2018[\"2018\"], y)\n",
    "plt.show()"
   ]
  },
  {
   "cell_type": "markdown",
   "metadata": {},
   "source": [
    "This plot, much like the 2010, is heavily centered on the left side since most countries send less than 500 refugees. The $r^2$ value is 0.0205 which, again, is a very low value showing a poor model and nearly non-existent correlation."
   ]
  },
  {
   "cell_type": "markdown",
   "metadata": {},
   "source": [
    "Removing outliers:"
   ]
  },
  {
   "cell_type": "code",
   "execution_count": 563,
   "metadata": {},
   "outputs": [
    {
     "data": {
      "text/html": [
       "<div>\n",
       "<style scoped>\n",
       "    .dataframe tbody tr th:only-of-type {\n",
       "        vertical-align: middle;\n",
       "    }\n",
       "\n",
       "    .dataframe tbody tr th {\n",
       "        vertical-align: top;\n",
       "    }\n",
       "\n",
       "    .dataframe thead th {\n",
       "        text-align: right;\n",
       "    }\n",
       "</style>\n",
       "<table border=\"1\" class=\"dataframe\">\n",
       "  <thead>\n",
       "    <tr style=\"text-align: right;\">\n",
       "      <th></th>\n",
       "      <th>Country</th>\n",
       "      <th>2018</th>\n",
       "      <th>Ranking - 2018</th>\n",
       "    </tr>\n",
       "  </thead>\n",
       "  <tbody>\n",
       "    <tr>\n",
       "      <th>15</th>\n",
       "      <td>Congo (Democratic Republic)</td>\n",
       "      <td>7878.0</td>\n",
       "      <td>155</td>\n",
       "    </tr>\n",
       "    <tr>\n",
       "      <th>49</th>\n",
       "      <td>Myanmar</td>\n",
       "      <td>3555.0</td>\n",
       "      <td>123</td>\n",
       "    </tr>\n",
       "    <tr>\n",
       "      <th>66</th>\n",
       "      <td>Ukraine</td>\n",
       "      <td>2635.0</td>\n",
       "      <td>152</td>\n",
       "    </tr>\n",
       "    <tr>\n",
       "      <th>6</th>\n",
       "      <td>Bhutan</td>\n",
       "      <td>2228.0</td>\n",
       "      <td>17</td>\n",
       "    </tr>\n",
       "    <tr>\n",
       "      <th>24</th>\n",
       "      <td>Eritrea</td>\n",
       "      <td>1269.0</td>\n",
       "      <td>139</td>\n",
       "    </tr>\n",
       "    <tr>\n",
       "      <th>0</th>\n",
       "      <td>Afghanistan</td>\n",
       "      <td>805.0</td>\n",
       "      <td>162</td>\n",
       "    </tr>\n",
       "    <tr>\n",
       "      <th>22</th>\n",
       "      <td>El Salvador</td>\n",
       "      <td>725.0</td>\n",
       "      <td>115</td>\n",
       "    </tr>\n",
       "    <tr>\n",
       "      <th>52</th>\n",
       "      <td>Pakistan</td>\n",
       "      <td>441.0</td>\n",
       "      <td>151</td>\n",
       "    </tr>\n",
       "    <tr>\n",
       "      <th>53</th>\n",
       "      <td>Russia</td>\n",
       "      <td>437.0</td>\n",
       "      <td>153</td>\n",
       "    </tr>\n",
       "    <tr>\n",
       "      <th>26</th>\n",
       "      <td>Ethiopia</td>\n",
       "      <td>376.0</td>\n",
       "      <td>131</td>\n",
       "    </tr>\n",
       "  </tbody>\n",
       "</table>\n",
       "</div>"
      ],
      "text/plain": [
       "                        Country    2018 Ranking - 2018\n",
       "15  Congo (Democratic Republic)  7878.0            155\n",
       "49                      Myanmar  3555.0            123\n",
       "66                      Ukraine  2635.0            152\n",
       "6                        Bhutan  2228.0             17\n",
       "24                      Eritrea  1269.0            139\n",
       "0                   Afghanistan   805.0            162\n",
       "22                  El Salvador   725.0            115\n",
       "52                     Pakistan   441.0            151\n",
       "53                       Russia   437.0            153\n",
       "26                     Ethiopia   376.0            131"
      ]
     },
     "execution_count": 563,
     "metadata": {},
     "output_type": "execute_result"
    }
   ],
   "source": [
    "# Determine the 10 nations with the largest refugee outflow\n",
    "data_2018.nlargest(10, \"2018\")"
   ]
  },
  {
   "cell_type": "code",
   "execution_count": 564,
   "metadata": {},
   "outputs": [],
   "source": [
    "# Drop the 10 nations determined above\n",
    "no_outliers_2018 = data_2018.drop([15, 49, 66, 6, 24, 0, 22, 52, 26])"
   ]
  },
  {
   "cell_type": "code",
   "execution_count": 565,
   "metadata": {},
   "outputs": [
    {
     "name": "stdout",
     "output_type": "stream",
     "text": [
      "Slope = 0.22028644431223265\n",
      "Y-intercept = 84.8107941310559\n",
      "r^2 = 0.17697145962569616\n"
     ]
    }
   ],
   "source": [
    "no_outliers_2018_model = LinearRegression().fit(no_outliers_2018[[\"2018\"]], no_outliers_2018[\"Ranking - 2018\"])\n",
    "no_outliers_2018_slope = no_outliers_2018_model.coef_[0]\n",
    "no_outliers_2018_intercept = no_outliers_2018_model.intercept_\n",
    "y = no_outliers_2018_slope * no_outliers_2018[\"2018\"] + no_outliers_2018_intercept\n",
    "print(\"Slope =\", no_outliers_2018_slope)\n",
    "print(\"Y-intercept =\", no_outliers_2018_intercept)\n",
    "print(\"r^2 =\", no_outliers_2018_model.score(no_outliers_2018[[\"2018\"]], no_outliers_2018[\"Ranking - 2018\"]))"
   ]
  },
  {
   "cell_type": "code",
   "execution_count": 566,
   "metadata": {},
   "outputs": [
    {
     "data": {
      "image/png": "[encoded data removed]",
      "text/plain": [
       "<Figure size 432x288 with 1 Axes>"
      ]
     },
     "metadata": {},
     "output_type": "display_data"
    }
   ],
   "source": [
    "plt.plot(no_outliers_2018[\"2018\"], no_outliers_2018[\"Ranking - 2018\"], 'o')\n",
    "plt.xlabel(\"Number of Refugees\")\n",
    "plt.ylabel(\"Global Peace Index Ranking\")\n",
    "plt.title(\"Global Peace Index Ranking of a Nation vs. Refugee Outflow in 2018 (No Outliers)\")\n",
    "plt.plot(no_outliers_2018[\"2018\"], y)\n",
    "plt.show()"
   ]
  },
  {
   "cell_type": "markdown",
   "metadata": {},
   "source": [
    "This plot is a little more spread out and we can see our line has a steeper slope. The $r^2$ value here is 0.128 which is higher than before, showing an improvement, but still not a great model."
   ]
  },
  {
   "cell_type": "markdown",
   "metadata": {},
   "source": [
    "Overall, there's not really a correlation here either between refugee outflow in a country and its global peace index ranking. Similarly to the 2010 data, countries are sending less than 200 refugees but have varying rankings, anywhere from 20 to over 160."
   ]
  },
  {
   "cell_type": "markdown",
   "metadata": {},
   "source": [
    "## HDI vs. Refugee Outflow in 2010"
   ]
  },
  {
   "cell_type": "code",
   "execution_count": 567,
   "metadata": {},
   "outputs": [],
   "source": [
    "hdi_2010 = int_data[[\"Country\", \"2010\", \"hdi_2010\"]].copy()\n",
    "hdi_2010 = hdi_2010[(hdi_2010 != 0).all(1)]"
   ]
  },
  {
   "cell_type": "code",
   "execution_count": 568,
   "metadata": {},
   "outputs": [
    {
     "name": "stdout",
     "output_type": "stream",
     "text": [
      "Slope = 1.0925587655498368e-06\n",
      "Y-intercept = 0.5790297436691996\n",
      "r^2 = 0.0009149874708650474\n"
     ]
    }
   ],
   "source": [
    "model_hdi_10 = LinearRegression().fit(hdi_2010[[\"2010\"]], hdi_2010[\"hdi_2010\"])\n",
    "hdi_10_slope = model_hdi_10.coef_[0]\n",
    "hdi_10_int = model_hdi_10.intercept_\n",
    "y = hdi_10_slope * hdi_2010[\"2010\"] + hdi_10_int\n",
    "print(\"Slope =\", hdi_10_slope)\n",
    "print(\"Y-intercept =\", hdi_10_int)\n",
    "print(\"r^2 =\", model_hdi_10.score(hdi_2010[[\"2010\"]], hdi_2010[\"hdi_2010\"]))"
   ]
  },
  {
   "cell_type": "code",
   "execution_count": 569,
   "metadata": {
    "scrolled": true
   },
   "outputs": [
    {
     "data": {
      "image/png": "[encoded data removed]",
      "text/plain": [
       "<Figure size 432x288 with 1 Axes>"
      ]
     },
     "metadata": {},
     "output_type": "display_data"
    }
   ],
   "source": [
    "plt.plot(hdi_2010[\"2010\"], hdi_2010[\"hdi_2010\"], \"o\")\n",
    "plt.plot(hdi_2010[\"2010\"], y)\n",
    "plt.xlabel(\"Number of Refugees\")\n",
    "plt.ylabel(\"HDI\")\n",
    "plt.title(\"HDI vs. Refugee Outflow in 2010\")\n",
    "plt.show()"
   ]
  },
  {
   "cell_type": "markdown",
   "metadata": {},
   "source": [
    "Akin to our previous plots, the comparison of HDI scores of countries and their corresponding refugee outflow to the US is heavily concentrated along the left axis of the graph. In order to analyze any patterns that could be present in the absence of large outliers we conduct another analysis below.\n",
    "\n",
    "**It is interesting to note that the countries sending the largest number of refugees in 2010 have an HDI score witin the range of 0.5 - 0.7, which are categorized as medium rankings. This contradicts our presumption that increased refugee outflows would correspond to low ranking HDIs**"
   ]
  },
  {
   "cell_type": "markdown",
   "metadata": {},
   "source": [
    "Again, removing outliers:"
   ]
  },
  {
   "cell_type": "code",
   "execution_count": 570,
   "metadata": {
    "scrolled": true
   },
   "outputs": [
    {
     "data": {
      "text/html": [
       "<div>\n",
       "<style scoped>\n",
       "    .dataframe tbody tr th:only-of-type {\n",
       "        vertical-align: middle;\n",
       "    }\n",
       "\n",
       "    .dataframe tbody tr th {\n",
       "        vertical-align: top;\n",
       "    }\n",
       "\n",
       "    .dataframe thead th {\n",
       "        text-align: right;\n",
       "    }\n",
       "</style>\n",
       "<table border=\"1\" class=\"dataframe\">\n",
       "  <thead>\n",
       "    <tr style=\"text-align: right;\">\n",
       "      <th></th>\n",
       "      <th>Country</th>\n",
       "      <th>2010</th>\n",
       "      <th>hdi_2010</th>\n",
       "    </tr>\n",
       "  </thead>\n",
       "  <tbody>\n",
       "    <tr>\n",
       "      <th>35</th>\n",
       "      <td>Iraq</td>\n",
       "      <td>18016.0</td>\n",
       "      <td>0.652</td>\n",
       "    </tr>\n",
       "    <tr>\n",
       "      <th>49</th>\n",
       "      <td>Myanmar</td>\n",
       "      <td>16693.0</td>\n",
       "      <td>0.523</td>\n",
       "    </tr>\n",
       "    <tr>\n",
       "      <th>6</th>\n",
       "      <td>Bhutan</td>\n",
       "      <td>12363.0</td>\n",
       "      <td>0.571</td>\n",
       "    </tr>\n",
       "    <tr>\n",
       "      <th>19</th>\n",
       "      <td>Cuba</td>\n",
       "      <td>4818.0</td>\n",
       "      <td>0.776</td>\n",
       "    </tr>\n",
       "    <tr>\n",
       "      <th>34</th>\n",
       "      <td>Iran</td>\n",
       "      <td>3543.0</td>\n",
       "      <td>0.756</td>\n",
       "    </tr>\n",
       "    <tr>\n",
       "      <th>15</th>\n",
       "      <td>Congo (Democratic Republic)</td>\n",
       "      <td>3174.0</td>\n",
       "      <td>0.416</td>\n",
       "    </tr>\n",
       "    <tr>\n",
       "      <th>24</th>\n",
       "      <td>Eritrea</td>\n",
       "      <td>2570.0</td>\n",
       "      <td>0.433</td>\n",
       "    </tr>\n",
       "    <tr>\n",
       "      <th>68</th>\n",
       "      <td>Vietnam</td>\n",
       "      <td>873.0</td>\n",
       "      <td>0.653</td>\n",
       "    </tr>\n",
       "    <tr>\n",
       "      <th>26</th>\n",
       "      <td>Ethiopia</td>\n",
       "      <td>668.0</td>\n",
       "      <td>0.412</td>\n",
       "    </tr>\n",
       "    <tr>\n",
       "      <th>60</th>\n",
       "      <td>Sudan</td>\n",
       "      <td>558.0</td>\n",
       "      <td>0.471</td>\n",
       "    </tr>\n",
       "  </tbody>\n",
       "</table>\n",
       "</div>"
      ],
      "text/plain": [
       "                        Country     2010  hdi_2010\n",
       "35                         Iraq  18016.0     0.652\n",
       "49                      Myanmar  16693.0     0.523\n",
       "6                        Bhutan  12363.0     0.571\n",
       "19                         Cuba   4818.0     0.776\n",
       "34                         Iran   3543.0     0.756\n",
       "15  Congo (Democratic Republic)   3174.0     0.416\n",
       "24                      Eritrea   2570.0     0.433\n",
       "68                      Vietnam    873.0     0.653\n",
       "26                     Ethiopia    668.0     0.412\n",
       "60                        Sudan    558.0     0.471"
      ]
     },
     "execution_count": 570,
     "metadata": {},
     "output_type": "execute_result"
    }
   ],
   "source": [
    "# 10 nations with largest refugee outlfow\n",
    "hdi_2010.nlargest(10, \"2010\")"
   ]
  },
  {
   "cell_type": "code",
   "execution_count": 571,
   "metadata": {},
   "outputs": [],
   "source": [
    "# Drop the 10 nations determined above\n",
    "hdi_10_drop = hdi_2010.drop([35, 49, 6, 19, 34, 15, 24, 68, 26, 60])"
   ]
  },
  {
   "cell_type": "code",
   "execution_count": 572,
   "metadata": {},
   "outputs": [
    {
     "name": "stdout",
     "output_type": "stream",
     "text": [
      "Slope = 1.2468088714985556e-05\n",
      "Y-intercept = 0.5828003858085407\n",
      "r^2 = 0.0001655247596019649\n"
     ]
    }
   ],
   "source": [
    "hdi_10_drop_model = LinearRegression().fit(hdi_10_drop[[\"2010\"]], hdi_10_drop[\"hdi_2010\"])\n",
    "drop_10_slope = hdi_10_drop_model.coef_[0]\n",
    "drop_10_int = hdi_10_drop_model.intercept_\n",
    "y = drop_10_slope * hdi_10_drop[\"2010\"] + drop_10_int\n",
    "print(\"Slope =\", drop_10_slope)\n",
    "print(\"Y-intercept =\", drop_10_int)\n",
    "print(\"r^2 =\", hdi_10_drop_model.score(hdi_10_drop[[\"2010\"]], hdi_10_drop[\"hdi_2010\"]))"
   ]
  },
  {
   "cell_type": "code",
   "execution_count": 573,
   "metadata": {},
   "outputs": [
    {
     "data": {
      "image/png": "[encoded data removed]",
      "text/plain": [
       "<Figure size 432x288 with 1 Axes>"
      ]
     },
     "metadata": {},
     "output_type": "display_data"
    }
   ],
   "source": [
    "plt.plot(hdi_10_drop[\"2010\"], hdi_10_drop[\"hdi_2010\"], \"o\")\n",
    "plt.plot(hdi_10_drop[\"2010\"], y)\n",
    "plt.xlabel(\"Number of Refugees\")\n",
    "plt.ylabel(\"HDI\")\n",
    "plt.title(\"HDI vs. Refugee Outflow in 2010 (No Outliers)\")\n",
    "plt.show()"
   ]
  },
  {
   "cell_type": "markdown",
   "metadata": {},
   "source": [
    "Even in the absence of outliers,this model only has an r-squared value of 0.000165 indicating that HDI scores and refugee outflows for a given country in 2010 are not correlated."
   ]
  },
  {
   "cell_type": "markdown",
   "metadata": {},
   "source": [
    "## HDI vs. Refugee Outflow in 2018"
   ]
  },
  {
   "cell_type": "code",
   "execution_count": 574,
   "metadata": {},
   "outputs": [],
   "source": [
    "hdi_2018 = int_data[[\"Country\", \"2018\", \"hdi_2018\"]].copy()\n",
    "hdi_2018 = hdi_2018[(hdi_2018 != 0).all(1)]"
   ]
  },
  {
   "cell_type": "code",
   "execution_count": 575,
   "metadata": {},
   "outputs": [
    {
     "name": "stdout",
     "output_type": "stream",
     "text": [
      "Slope = -1.3227894515558798e-05\n",
      "Y-intercept = 0.6128787263928531\n",
      "r^2 = 0.02173285757038823\n"
     ]
    }
   ],
   "source": [
    "model_hdi_18 = LinearRegression().fit(hdi_2018[[\"2018\"]], hdi_2018[\"hdi_2018\"])\n",
    "hdi_18_slope = model_hdi_18.coef_[0]\n",
    "hdi_18_int = model_hdi_18.intercept_\n",
    "y = hdi_18_slope * hdi_2018[\"2018\"] + hdi_18_int\n",
    "print(\"Slope =\", hdi_18_slope)\n",
    "print(\"Y-intercept =\", hdi_18_int)\n",
    "print(\"r^2 =\", model_hdi_18.score(hdi_2018[[\"2018\"]], hdi_2018[\"hdi_2018\"]))"
   ]
  },
  {
   "cell_type": "code",
   "execution_count": 576,
   "metadata": {
    "scrolled": true
   },
   "outputs": [
    {
     "data": {
      "image/png": "[encoded data removed]",
      "text/plain": [
       "<Figure size 432x288 with 1 Axes>"
      ]
     },
     "metadata": {},
     "output_type": "display_data"
    }
   ],
   "source": [
    "plt.plot(hdi_2018[\"2018\"], hdi_2018[\"hdi_2018\"], \"o\")\n",
    "plt.plot(hdi_2018[\"2018\"], y)\n",
    "plt.xlabel(\"Number of Refugees\")\n",
    "plt.ylabel(\"HDI\")\n",
    "plt.title(\"HDI vs. Refugee Outflow in 2018\")\n",
    "plt.show()"
   ]
  },
  {
   "cell_type": "markdown",
   "metadata": {},
   "source": [
    "The $r^2$ value is 0.022 which shows again, a poor correlation. Unlike the other plots we've created, this one has a negative slope, which would imply that as the number of refugees leaving a country increases, the HDI decreases. This is opposite of what we expected, but it's hard to tell how accurate this is given the outliers."
   ]
  },
  {
   "cell_type": "markdown",
   "metadata": {},
   "source": [
    "Dropping the outliers and renalyzing:"
   ]
  },
  {
   "cell_type": "code",
   "execution_count": 577,
   "metadata": {},
   "outputs": [],
   "source": [
    "hdi_18_drop = hdi_2018.drop(list(hdi_2018.nlargest(10, \"2018\").index))"
   ]
  },
  {
   "cell_type": "code",
   "execution_count": 578,
   "metadata": {},
   "outputs": [
    {
     "name": "stdout",
     "output_type": "stream",
     "text": [
      "Slope = 0.00021136033435164845\n",
      "Y-intercept = 0.5995849950421387\n",
      "r^2 = 0.010442704817192672\n"
     ]
    }
   ],
   "source": [
    "hdi_18_drop_model = LinearRegression().fit(hdi_18_drop[[\"2018\"]], hdi_18_drop[\"hdi_2018\"])\n",
    "drop_18_slope = hdi_18_drop_model.coef_[0]\n",
    "drop_18_int = hdi_18_drop_model.intercept_\n",
    "y = drop_18_slope * hdi_18_drop[\"2018\"] + drop_18_int\n",
    "print(\"Slope =\", drop_18_slope)\n",
    "print(\"Y-intercept =\", drop_18_int)\n",
    "print(\"r^2 =\", hdi_18_drop_model.score(hdi_18_drop[[\"2018\"]], hdi_18_drop[\"hdi_2018\"]))"
   ]
  },
  {
   "cell_type": "code",
   "execution_count": 579,
   "metadata": {
    "scrolled": true
   },
   "outputs": [
    {
     "data": {
      "image/png": "[encoded data removed]",
      "text/plain": [
       "<Figure size 432x288 with 1 Axes>"
      ]
     },
     "metadata": {},
     "output_type": "display_data"
    }
   ],
   "source": [
    "plt.plot(hdi_18_drop[\"2018\"], hdi_18_drop[\"hdi_2018\"], \"o\")\n",
    "plt.plot(hdi_18_drop[\"2018\"], y)\n",
    "plt.xlabel(\"Number of Refugees\")\n",
    "plt.ylabel(\"HDI\")\n",
    "plt.title(\"HDI vs. Refugee Outflow in 2018 (No Outliers)\")\n",
    "plt.show()"
   ]
  },
  {
   "cell_type": "markdown",
   "metadata": {},
   "source": [
    "The $r^2R value is 0.010 which is actually worse than the model with the outliers. This data, unlike the other data we've seen, is not heavily centered on the left, but kind of spread out throughout the plot. The slope is back to being positive as well, fitting our expectations."
   ]
  },
  {
   "cell_type": "markdown",
   "metadata": {},
   "source": [
    "## GPI (Global Peace Index) vs. Refugee Outflow in 2010"
   ]
  },
  {
   "cell_type": "code",
   "execution_count": 580,
   "metadata": {},
   "outputs": [],
   "source": [
    "gpi_2010 = int_data[[\"Country\", \"2010\", \"Score - 2010\"]].copy()\n",
    "gpi_2010 = gpi_2010[(gpi_2010 != 0).all(1)]"
   ]
  },
  {
   "cell_type": "code",
   "execution_count": 581,
   "metadata": {},
   "outputs": [
    {
     "name": "stdout",
     "output_type": "stream",
     "text": [
      "Slope = 2.908779249264781e-05\n",
      "Y-intercept = 2.3719302052653513\n",
      "r^2 = 0.05656976220762322\n"
     ]
    }
   ],
   "source": [
    "gpi_model_10 = LinearRegression().fit(gpi_2010[[\"2010\"]], gpi_2010[\"Score - 2010\"])\n",
    "gpi_slope_10 = gpi_model_10.coef_[0]\n",
    "gpi_int_10 = gpi_model_10.intercept_\n",
    "y = gpi_slope_10 * gpi_2010[\"2010\"] + gpi_int_10\n",
    "print(\"Slope =\", gpi_slope_10)\n",
    "print(\"Y-intercept =\", gpi_int_10)\n",
    "print(\"r^2 =\", gpi_model_10.score(gpi_2010[[\"2010\"]], gpi_2010[\"Score - 2010\"]))"
   ]
  },
  {
   "cell_type": "code",
   "execution_count": 582,
   "metadata": {},
   "outputs": [
    {
     "data": {
      "image/png": "[encoded data removed]",
      "text/plain": [
       "<Figure size 432x288 with 1 Axes>"
      ]
     },
     "metadata": {},
     "output_type": "display_data"
    }
   ],
   "source": [
    "plt.plot(gpi_2010[\"2010\"], gpi_2010[\"Score - 2010\"], \"o\")\n",
    "plt.plot(gpi_2010[\"2010\"], y)\n",
    "plt.xlabel(\"Number of Refugees\")\n",
    "plt.ylabel(\"GPI\")\n",
    "plt.title(\"GPI vs. Refugee Outflow in 2010\")\n",
    "plt.show()"
   ]
  },
  {
   "cell_type": "markdown",
   "metadata": {},
   "source": [
    "The $r^2$ here is 0.057 which, again, is fairly low due to the outliers as we can see that the GPI scores vary while most countries have a refugee outflow in the 100s and 200s."
   ]
  },
  {
   "cell_type": "markdown",
   "metadata": {},
   "source": [
    "Dropping outliers:"
   ]
  },
  {
   "cell_type": "code",
   "execution_count": 583,
   "metadata": {},
   "outputs": [
    {
     "data": {
      "text/html": [
       "<div>\n",
       "<style scoped>\n",
       "    .dataframe tbody tr th:only-of-type {\n",
       "        vertical-align: middle;\n",
       "    }\n",
       "\n",
       "    .dataframe tbody tr th {\n",
       "        vertical-align: top;\n",
       "    }\n",
       "\n",
       "    .dataframe thead th {\n",
       "        text-align: right;\n",
       "    }\n",
       "</style>\n",
       "<table border=\"1\" class=\"dataframe\">\n",
       "  <thead>\n",
       "    <tr style=\"text-align: right;\">\n",
       "      <th></th>\n",
       "      <th>Country</th>\n",
       "      <th>2010</th>\n",
       "      <th>Score - 2010</th>\n",
       "    </tr>\n",
       "  </thead>\n",
       "  <tbody>\n",
       "    <tr>\n",
       "      <th>35</th>\n",
       "      <td>Iraq</td>\n",
       "      <td>18016.0</td>\n",
       "      <td>3.600</td>\n",
       "    </tr>\n",
       "    <tr>\n",
       "      <th>49</th>\n",
       "      <td>Myanmar</td>\n",
       "      <td>16693.0</td>\n",
       "      <td>2.413</td>\n",
       "    </tr>\n",
       "    <tr>\n",
       "      <th>6</th>\n",
       "      <td>Bhutan</td>\n",
       "      <td>12363.0</td>\n",
       "      <td>1.950</td>\n",
       "    </tr>\n",
       "    <tr>\n",
       "      <th>57</th>\n",
       "      <td>Somalia</td>\n",
       "      <td>4884.0</td>\n",
       "      <td>3.485</td>\n",
       "    </tr>\n",
       "    <tr>\n",
       "      <th>19</th>\n",
       "      <td>Cuba</td>\n",
       "      <td>4818.0</td>\n",
       "      <td>2.062</td>\n",
       "    </tr>\n",
       "    <tr>\n",
       "      <th>34</th>\n",
       "      <td>Iran</td>\n",
       "      <td>3543.0</td>\n",
       "      <td>2.360</td>\n",
       "    </tr>\n",
       "    <tr>\n",
       "      <th>15</th>\n",
       "      <td>Congo (Democratic Republic)</td>\n",
       "      <td>3174.0</td>\n",
       "      <td>3.023</td>\n",
       "    </tr>\n",
       "    <tr>\n",
       "      <th>24</th>\n",
       "      <td>Eritrea</td>\n",
       "      <td>2570.0</td>\n",
       "      <td>2.409</td>\n",
       "    </tr>\n",
       "    <tr>\n",
       "      <th>68</th>\n",
       "      <td>Vietnam</td>\n",
       "      <td>873.0</td>\n",
       "      <td>1.905</td>\n",
       "    </tr>\n",
       "    <tr>\n",
       "      <th>26</th>\n",
       "      <td>Ethiopia</td>\n",
       "      <td>668.0</td>\n",
       "      <td>2.581</td>\n",
       "    </tr>\n",
       "  </tbody>\n",
       "</table>\n",
       "</div>"
      ],
      "text/plain": [
       "                        Country     2010  Score - 2010\n",
       "35                         Iraq  18016.0         3.600\n",
       "49                      Myanmar  16693.0         2.413\n",
       "6                        Bhutan  12363.0         1.950\n",
       "57                      Somalia   4884.0         3.485\n",
       "19                         Cuba   4818.0         2.062\n",
       "34                         Iran   3543.0         2.360\n",
       "15  Congo (Democratic Republic)   3174.0         3.023\n",
       "24                      Eritrea   2570.0         2.409\n",
       "68                      Vietnam    873.0         1.905\n",
       "26                     Ethiopia    668.0         2.581"
      ]
     },
     "execution_count": 583,
     "metadata": {},
     "output_type": "execute_result"
    }
   ],
   "source": [
    "gpi_2010.nlargest(10, \"2010\")"
   ]
  },
  {
   "cell_type": "code",
   "execution_count": 584,
   "metadata": {},
   "outputs": [],
   "source": [
    "# Drop the 10 nations determined above\n",
    "gpi_10_drop = gpi_2010.drop([35, 49, 6, 57, 19, 34, 15, 24, 68, 26])"
   ]
  },
  {
   "cell_type": "code",
   "execution_count": 585,
   "metadata": {},
   "outputs": [
    {
     "name": "stdout",
     "output_type": "stream",
     "text": [
      "Slope = 0.0009014613981811672\n",
      "Y-intercept = 2.2682492449842373\n",
      "r^2 = 0.11172031369239643\n"
     ]
    }
   ],
   "source": [
    "gpi_10_drop_model = LinearRegression().fit(gpi_10_drop[[\"2010\"]], gpi_10_drop[\"Score - 2010\"])\n",
    "drop_10_slope = gpi_10_drop_model.coef_[0]\n",
    "drop_10_int = gpi_10_drop_model.intercept_\n",
    "y = drop_10_slope * gpi_10_drop[\"2010\"] + drop_10_int\n",
    "print(\"Slope =\", drop_10_slope)\n",
    "print(\"Y-intercept =\", drop_10_int)\n",
    "print(\"r^2 =\", gpi_10_drop_model.score(gpi_10_drop[[\"2010\"]], gpi_10_drop[\"Score - 2010\"]))"
   ]
  },
  {
   "cell_type": "code",
   "execution_count": 586,
   "metadata": {},
   "outputs": [
    {
     "data": {
      "image/png": "[encoded data removed]",
      "text/plain": [
       "<Figure size 432x288 with 1 Axes>"
      ]
     },
     "metadata": {},
     "output_type": "display_data"
    }
   ],
   "source": [
    "plt.plot(gpi_10_drop[\"2010\"], gpi_10_drop[\"Score - 2010\"], \"o\")\n",
    "plt.plot(gpi_10_drop[\"2010\"], y)\n",
    "plt.xlabel(\"Number of Refugees\")\n",
    "plt.ylabel(\"GPI\")\n",
    "plt.title(\"GPI vs. Refugee Outflow in 2010 (No Outliers)\")\n",
    "plt.show()"
   ]
  },
  {
   "cell_type": "markdown",
   "metadata": {},
   "source": [
    "The $r^2$ value is 0.112 which is a step in the right direction, but again not a strong correlation due to the data being centered on the left of the plot."
   ]
  },
  {
   "cell_type": "markdown",
   "metadata": {},
   "source": [
    "## GPI vs. Refugee Outflow in 2018"
   ]
  },
  {
   "cell_type": "code",
   "execution_count": 587,
   "metadata": {},
   "outputs": [],
   "source": [
    "gpi_2018 = int_data[[\"Country\", \"2018\", \"Score - 2018\"]].copy()\n",
    "gpi_2018 = gpi_2018[(gpi_2018 != 0).all(1)]"
   ]
  },
  {
   "cell_type": "code",
   "execution_count": 588,
   "metadata": {},
   "outputs": [
    {
     "name": "stdout",
     "output_type": "stream",
     "text": [
      "Slope = 0.00015638185306365515\n",
      "Y-intercept = 2.145449864971883\n",
      "r^2 = 0.04770728330707563\n"
     ]
    }
   ],
   "source": [
    "gpi_model_18 = LinearRegression().fit(gpi_2018[[\"2018\"]], gpi_2018[\"Score - 2018\"])\n",
    "gpi_slope_18 = gpi_model_18.coef_[0]\n",
    "gpi_int_18 = gpi_model_18.intercept_\n",
    "y = gpi_slope_18 * gpi_2018[\"2018\"] + gpi_int_18\n",
    "print(\"Slope =\", gpi_slope_18)\n",
    "print(\"Y-intercept =\", gpi_int_18)\n",
    "print(\"r^2 =\", gpi_model_18.score(gpi_2018[[\"2018\"]], gpi_2018[\"Score - 2018\"]))"
   ]
  },
  {
   "cell_type": "code",
   "execution_count": 589,
   "metadata": {
    "scrolled": true
   },
   "outputs": [
    {
     "data": {
      "image/png": "[encoded data removed]",
      "text/plain": [
       "<Figure size 432x288 with 1 Axes>"
      ]
     },
     "metadata": {},
     "output_type": "display_data"
    }
   ],
   "source": [
    "plt.plot(gpi_2018[\"2018\"], gpi_2018[\"Score - 2018\"], \"o\")\n",
    "plt.plot(gpi_2018[\"2018\"], y)\n",
    "plt.xlabel(\"Number of Refugees\")\n",
    "plt.ylabel(\"GPI\")\n",
    "plt.title(\"GPI vs. Refugee Outflow in 2018\")\n",
    "plt.show()"
   ]
  },
  {
   "cell_type": "markdown",
   "metadata": {},
   "source": [
    "The $r^2$ is 0.0477 which, again, doesn't show a strong correlation between refugees and GPI."
   ]
  },
  {
   "cell_type": "markdown",
   "metadata": {},
   "source": [
    "Since the plot below and $r^2$ value below show some promise, we decided to use the permutation idea from Homework 8 and apply it here with randomization, hopefully showing no significant correlation:"
   ]
  },
  {
   "cell_type": "code",
   "execution_count": 615,
   "metadata": {},
   "outputs": [],
   "source": [
    "# provided code from Homework 8\n",
    "def permuted_y():\n",
    "    return np.random.permutation(gpi_2018[\"Score - 2018\"].copy())"
   ]
  },
  {
   "cell_type": "code",
   "execution_count": 616,
   "metadata": {},
   "outputs": [],
   "source": [
    "slopes = np.zeros(1000)\n",
    "for num in range(len(slopes)):\n",
    "    model = LinearRegression().fit(gpi_2018[[\"2018\"]], permuted_y())\n",
    "    slopes[num] = model.coef_"
   ]
  },
  {
   "cell_type": "code",
   "execution_count": 617,
   "metadata": {},
   "outputs": [
    {
     "data": {
      "image/png": "[encoded data removed]",
      "text/plain": [
       "<Figure size 432x288 with 1 Axes>"
      ]
     },
     "metadata": {},
     "output_type": "display_data"
    }
   ],
   "source": [
    "plt.hist(slopes, bins=30)\n",
    "plt.xlabel(\"Slopes\")\n",
    "plt.ylabel(\"Frequency of Slopes\")\n",
    "plt.title(\"Frequency of Different Slopes\")\n",
    "plt.show()"
   ]
  },
  {
   "cell_type": "code",
   "execution_count": 618,
   "metadata": {},
   "outputs": [
    {
     "name": "stdout",
     "output_type": "stream",
     "text": [
      "The average of slopes is -6.08421285465112e-06\n"
     ]
    }
   ],
   "source": [
    "print(\"The average of slopes is\", slopes.mean())"
   ]
  },
  {
   "cell_type": "markdown",
   "metadata": {},
   "source": [
    "Our slope was 0.000156 or 1.56e-4. The average slope in the permutation is negative while our calculated one using linear regression is positive, so they have opposite correlations. This is interesting and shows true randomization given that we inputted columns from the dataset we were already using and got different correlations, one being positive and one being negative."
   ]
  },
  {
   "cell_type": "markdown",
   "metadata": {},
   "source": [
    "Removing outliers:"
   ]
  },
  {
   "cell_type": "code",
   "execution_count": 590,
   "metadata": {},
   "outputs": [],
   "source": [
    "# Drop the 10 nations determined above\n",
    "gpi_18_drop = gpi_2018.drop(list(gpi_2018.nlargest(10, \"2018\").index))"
   ]
  },
  {
   "cell_type": "code",
   "execution_count": 591,
   "metadata": {},
   "outputs": [
    {
     "name": "stdout",
     "output_type": "stream",
     "text": [
      "Slope = 0.006272760508912467\n",
      "Y-intercept = 1.6759694928749003\n",
      "r^2 = 0.18135581590206984\n"
     ]
    }
   ],
   "source": [
    "gpi_18_drop_model = LinearRegression().fit(gpi_18_drop[[\"2018\"]], gpi_18_drop[\"Score - 2018\"])\n",
    "drop_18_slope = gpi_18_drop_model.coef_[0]\n",
    "drop_18_int = gpi_18_drop_model.intercept_\n",
    "y = drop_18_slope * gpi_18_drop[\"2018\"] + drop_18_int\n",
    "print(\"Slope =\", drop_18_slope)\n",
    "print(\"Y-intercept =\", drop_18_int)\n",
    "print(\"r^2 =\", gpi_18_drop_model.score(gpi_18_drop[[\"2018\"]], gpi_18_drop[\"Score - 2018\"]))"
   ]
  },
  {
   "cell_type": "code",
   "execution_count": 592,
   "metadata": {
    "scrolled": true
   },
   "outputs": [
    {
     "data": {
      "image/png": "[encoded data removed]",
      "text/plain": [
       "<Figure size 432x288 with 1 Axes>"
      ]
     },
     "metadata": {},
     "output_type": "display_data"
    }
   ],
   "source": [
    "plt.plot(gpi_18_drop[\"2018\"], gpi_18_drop[\"Score - 2018\"], \"o\")\n",
    "plt.plot(gpi_18_drop[\"2018\"], y)\n",
    "plt.xlabel(\"Number of Refugees\")\n",
    "plt.ylabel(\"GPI\")\n",
    "plt.title(\"GPI vs. Refugee Outflow in 2018 (No Outliers)\")\n",
    "plt.show()"
   ]
  },
  {
   "cell_type": "markdown",
   "metadata": {},
   "source": [
    "The $r^2$ has a value of 0.181 which is a good increase and shows more of a match between the model and data. Again, however, there's still not a strong correlation between GPI and refguee outflow."
   ]
  },
  {
   "cell_type": "markdown",
   "metadata": {},
   "source": [
    "Here's the random permutations for the data with no outliers:"
   ]
  },
  {
   "cell_type": "code",
   "execution_count": 605,
   "metadata": {},
   "outputs": [],
   "source": [
    "# provided code from Homework 8\n",
    "def permuted_y():\n",
    "    return np.random.permutation(gpi_18_drop[\"Score - 2018\"].copy())"
   ]
  },
  {
   "cell_type": "code",
   "execution_count": 610,
   "metadata": {},
   "outputs": [],
   "source": [
    "slopes_drop = np.zeros(1000)\n",
    "for num in range(len(slopes)):\n",
    "    model = LinearRegression().fit(gpi_18_drop[[\"2018\"]], permuted_y())\n",
    "    slopes_drop[num] = model.coef_"
   ]
  },
  {
   "cell_type": "code",
   "execution_count": 613,
   "metadata": {},
   "outputs": [
    {
     "data": {
      "image/png": "[encoded data removed]",
      "text/plain": [
       "<Figure size 432x288 with 1 Axes>"
      ]
     },
     "metadata": {},
     "output_type": "display_data"
    }
   ],
   "source": [
    "plt.hist(slopes_drop, bins=30)\n",
    "plt.xlabel(\"Slopes\")\n",
    "plt.ylabel(\"Frequency of Slopes\")\n",
    "plt.title(\"Frequency of Different Slopes (No Outliers)\")\n",
    "plt.show()"
   ]
  },
  {
   "cell_type": "code",
   "execution_count": 614,
   "metadata": {},
   "outputs": [
    {
     "name": "stdout",
     "output_type": "stream",
     "text": [
      "Mean of slopes is 1.7340994101685034e-05\n"
     ]
    }
   ],
   "source": [
    "print(\"Mean of slopes is\", slopes.mean())"
   ]
  },
  {
   "cell_type": "markdown",
   "metadata": {},
   "source": [
    "Our slope was 0.00627 or 6.27e-3. The average slope of the random permutations is slightly larger than our actual slope, which shows a slightly more positive correlation. However our slope is not within the range of the histogram above showing that our data produced values we weren't necessarily expecting."
   ]
  },
  {
   "cell_type": "markdown",
   "metadata": {},
   "source": [
    "## Comparison of refugee outflow change and HDI score change between 2010-2018"
   ]
  },
  {
   "cell_type": "markdown",
   "metadata": {},
   "source": [
    "Given that our comparisons of the 2010 and 2018 refugee numbers failed to show any moderate or strong correlation, we decided that it may be valuable to observe if the factor of change in refugees [(refugees in 2018 - refugees on 2010)/ refugees in 2010] and that if countries' HDI showed any patterns."
   ]
  },
  {
   "cell_type": "code",
   "execution_count": 593,
   "metadata": {},
   "outputs": [],
   "source": [
    "# creating data on change in refugee outflows and change in hdi\n",
    "change_data = int_data[[\"Country\", \"hdichange2010-2018\", \"refugee_change\"]].copy()\n",
    "\n",
    "#there are some countries where we cannot calculate the rate of change of refugees due to witholding of data either\n",
    "#during 2010 or 2018, so we need to drop those countries. Similarly, there are countries where HDI change is not\n",
    "#able to be computed so we also need to drop those from our analysis.\n",
    "\n",
    "change_data = change_data[(change_data != 0).all(1)]\n"
   ]
  },
  {
   "cell_type": "code",
   "execution_count": 594,
   "metadata": {},
   "outputs": [
    {
     "name": "stdout",
     "output_type": "stream",
     "text": [
      "Slope = -0.03639175538419436\n",
      "Y-intercept = 0.13664610722795628\n",
      "r^2 = 0.00030490580878239637\n"
     ]
    }
   ],
   "source": [
    "change_model = LinearRegression().fit(change_data[[\"hdichange2010-2018\"]], change_data[\"refugee_change\"])\n",
    "change_model_slope = change_model.coef_[0]\n",
    "change_model_intercept = change_model.intercept_\n",
    "y = change_model_slope * change_data[\"hdichange2010-2018\"] + change_model_intercept \n",
    "print(\"Slope =\", change_model_slope)\n",
    "print(\"Y-intercept =\", change_model_intercept)\n",
    "print(\"r^2 =\", change_model.score(change_data[[\"hdichange2010-2018\"]], change_data[\"refugee_change\"]))"
   ]
  },
  {
   "cell_type": "code",
   "execution_count": 595,
   "metadata": {
    "scrolled": false
   },
   "outputs": [
    {
     "data": {
      "image/png": "[encoded data removed]",
      "text/plain": [
       "<Figure size 432x288 with 1 Axes>"
      ]
     },
     "metadata": {},
     "output_type": "display_data"
    }
   ],
   "source": [
    "plt.plot(change_data[\"hdichange2010-2018\"], change_data[\"refugee_change\"],'o')\n",
    "plt.xlabel(\"Factor of HDI change\")\n",
    "plt.ylabel(\"Refugee outflow change\")\n",
    "plt.title(\"Factor of HDI change vs. Refugee Outflow change\")\n",
    "plt.xlim(-2.5,3)\n",
    "plt.ylim(-1.5,7)\n",
    "plt.plot(change_data[\"hdichange2010-2018\"],y)\n",
    "plt.show()"
   ]
  },
  {
   "cell_type": "markdown",
   "metadata": {},
   "source": [
    "As we can observe from both the scatter plot and the r-squared valule of 0.00099, modelling refugee outflow change from 2010 to 2018 based on an individual country's change in HDI during this period is not an accurate model and we cannot discern a possible correlation."
   ]
  },
  {
   "cell_type": "markdown",
   "metadata": {},
   "source": [
    "# Conclusion\n",
    "\n",
    "Examining the country-specific refugee outflow data to the US from 2010 to 2018, we saw a strikingly declining trend that reflects changes in the US administration’s stance on immigration policy. The US has fallen far from its position as one of the top refugee resettling countries, and refugee numbers are projected to decrease even more so.\n",
    "\n",
    "Furthermore, upon analyzing the HDI and GPI of countries we cannot establish a model that represents global trends (e.g. no real correlation was found). HDI and GPI change during the 2010 to 2018 period also failed to show any correlation to refugee outflow changes for specific countries.\n",
    "\n",
    "This was surprising to us as we expected that as the number of refugees leaving a country increased, the human development index and global peace index would decrease (since lower scsores on HDI and GPI would likely indicate worse conditions that might instigate more refugee outflow from said country). As discussed and shown, this was not the case at all. Most HDI and GPI values were evenly spread among countries with low and high counts of refugees.\n",
    "\n",
    "One limitation of the data, that also provides a basis for further research, is that with the US’ decreasing cap on accepting refugees the number of refugee outflows examined here may not be representative of the actual refugee outflows of any given country. For example, though only 16 Yemeni refugees were sent to the US in 2015, Yemen actually had a much higher rate of refugee outflow with 110,167 seeking refugee in countries like Saudi Arabia, Djibouti, Ethiopia, Somalia (UNHCR). Therefore, more insight could be gained by comparing HDI or GPI with the total refugee outflow for countries.\n",
    "\n",
    "Ultimately, refugee flows fluctuate year by year affected by violence, political instability, or discriminatory persecution. We’ve come to the conclusion that analyzing only the refugee flows to the US is not reflective of global conditions but more so of the US immigration system and political stances.\n"
   ]
  },
  {
   "cell_type": "markdown",
   "metadata": {},
   "source": [
    "## Source Code\n",
    "\n",
    "Our source code can be found at this github repository: https://github.coecis.cornell.edu/pp379/INFO2950-Final-Project"
   ]
  },
  {
   "cell_type": "markdown",
   "metadata": {},
   "source": [
    "## Acknowledgements\n",
    "\n",
    "We want to thank the TAs who helped us (esp Irena for saving the day with the dataset merging that gave us such a hassle) and Prof Mimno whose flexibility and compassion has been a great help during this turbulent semester.\n",
    "\n",
    "Our data was gathered from a combination of these sources:\n",
    "\n",
    "Furthermore some other help was achieved through:\n",
    "\n",
    "https://stackoverflow.com/questions/27020312/drop-row-in-pandas-dataframe-if-any-value-in-the-row-equals-zero/27020741\n",
    "\n",
    "For the contextual information about refugee flows we turned to these sources:\n",
    "\n",
    "https://www.unhcr.org/561cf4239.pdf\n",
    "\n",
    "https://www.pewresearch.org/fact-tank/2019/10/07/key-facts-about-refugees-to-the-u-s/\n",
    "\n",
    "For our dataset information:\n",
    "\n",
    "https://www.dhs.gov/immigration-statistics/refugees-asylees\n",
    "\n",
    "http://visionofhumanity.org/indexes/global-peace-index/\n",
    "\n",
    "http://hdr.undp.org/en/data"
   ]
  }
 ],
 "metadata": {
  "kernelspec": {
   "display_name": "Python 3",
   "language": "python",
   "name": "python3"
  },
  "language_info": {
   "codemirror_mode": {
    "name": "ipython",
    "version": 3
   },
   "file_extension": ".py",
   "mimetype": "text/x-python",
   "name": "python",
   "nbconvert_exporter": "python",
   "pygments_lexer": "ipython3",
   "version": "3.6.5"
  }
 },
 "nbformat": 4,
 "nbformat_minor": 2
}
